{
  "nbformat": 4,
  "nbformat_minor": 0,
  "metadata": {
    "colab": {
      "provenance": [],
      "authorship_tag": "ABX9TyNAtuTTl6c9ieoetQOgoZb8",
      "include_colab_link": true
    },
    "kernelspec": {
      "name": "python3",
      "display_name": "Python 3"
    },
    "language_info": {
      "name": "python"
    }
  },
  "cells": [
    {
      "cell_type": "markdown",
      "metadata": {
        "id": "view-in-github",
        "colab_type": "text"
      },
      "source": [
        "<a href=\"https://colab.research.google.com/github/SamaSamrin/Data-Analysis-with-MS-Excel/blob/main/Excel_for_DA_Notes.ipynb\" target=\"_parent\"><img src=\"https://colab.research.google.com/assets/colab-badge.svg\" alt=\"Open In Colab\"/></a>"
      ]
    },
    {
      "cell_type": "code",
      "execution_count": null,
      "metadata": {
        "id": "WfCuJPmqlxuS"
      },
      "outputs": [],
      "source": []
    },
    {
      "cell_type": "markdown",
      "source": [
        "# 5 Main Steps of Data Analysis"
      ],
      "metadata": {
        "id": "uubhDyn0l1PP"
      }
    },
    {
      "cell_type": "markdown",
      "source": [
        "### 1. Define the questions that youwant to answer through the analysis\n",
        "- clearly define the problem\n",
        "- make hypothesis or research questions\n",
        "- identify what types of data you will need and where it'll come from\n",
        "\n",
        "### 2. Collect the Data\n",
        "- primary sources: internal data that the ocmpany already has (eg: CRM software, email marketing tools etc.)\n",
        "- secondary sources: public/external data (eg: government, Google Trends, WHO etc.)\n",
        "\n",
        "### 3. Clean the Data\n",
        "- remove duplicates\n",
        "- handle anomalies and missing data\n",
        "\n",
        "### 4. Analyze the Data\n",
        "- regression analysis\n",
        "- cluster analysis\n",
        "- time-series analysis\n",
        "\n",
        "### 5. Interprete and share the results\n",
        "- visualization"
      ],
      "metadata": {
        "id": "UU6TzG-CnhEh"
      }
    },
    {
      "cell_type": "markdown",
      "source": [
        "# Terms"
      ],
      "metadata": {
        "id": "7fhznMBBm9Qw"
      }
    },
    {
      "cell_type": "markdown",
      "source": [
        "- ETL = Extract, Transform, Load\n",
        "- Dax = Data analyst expressions\n",
        "- Copilot = Feature in Excel, like ChatGPT powered by Microsoft"
      ],
      "metadata": {
        "id": "IH-3S_ulnYNU"
      }
    },
    {
      "cell_type": "markdown",
      "source": [
        "# Notes"
      ],
      "metadata": {
        "id": "eDTS8g81nTuD"
      }
    },
    {
      "cell_type": "markdown",
      "source": [
        "### 1. Concatenate values from 2 string columns:"
      ],
      "metadata": {
        "id": "0VVZeybNnj7r"
      }
    },
    {
      "cell_type": "code",
      "source": [
        "=A2&B2"
      ],
      "metadata": {
        "id": "FFVQzXVfnp0N"
      },
      "execution_count": null,
      "outputs": []
    },
    {
      "cell_type": "markdown",
      "source": [
        "if A2='x' and B2='y', then this will produce \"xy\""
      ],
      "metadata": {
        "id": "mFBySq_Cns59"
      }
    },
    {
      "cell_type": "code",
      "source": [
        "=A2&\"-\"&B2"
      ],
      "metadata": {
        "id": "t6O6uFu_oCNn"
      },
      "execution_count": null,
      "outputs": []
    },
    {
      "cell_type": "markdown",
      "source": [
        "adds a hyphen (-) between the two cell values"
      ],
      "metadata": {
        "id": "GonFnnvSoHDg"
      }
    },
    {
      "cell_type": "markdown",
      "source": [
        "- the quotation marks are necessary to put text characters between two values"
      ],
      "metadata": {
        "id": "s_NWlmT-og_Q"
      }
    },
    {
      "cell_type": "markdown",
      "source": [
        "### 2. Range = collection of cells"
      ],
      "metadata": {
        "id": "4W8x8ZVOomYS"
      }
    },
    {
      "cell_type": "markdown",
      "source": [],
      "metadata": {
        "id": "i6hqp_6e3GMu"
      }
    }
  ]
}